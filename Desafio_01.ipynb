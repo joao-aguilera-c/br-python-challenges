{
 "cells": [
  {
   "cell_type": "markdown",
   "metadata": {
    "colab_type": "text",
    "id": "view-in-github"
   },
   "source": [
    "![](https://i.imgur.com/YX6UATs.png)"
   ]
  },
  {
   "cell_type": "markdown",
   "metadata": {
    "colab_type": "text",
    "id": "SbLLE9q1eldC"
   },
   "source": [
    "### Desafio 1\n",
    "\n",
    "Escreva um programa em Python para contabilizar a quantidade de ocorrências de cada palavra."
   ]
  },
  {
   "cell_type": "code",
   "execution_count": 4,
   "metadata": {
    "colab": {},
    "colab_type": "code",
    "id": "WhtbdwFseldD"
   },
   "outputs": [],
   "source": [
    "palavras = [\n",
    "   'red', 'green', 'black', 'pink', 'black', 'white', 'black', 'eyes',\n",
    "   'white', 'black', 'orange', 'pink', 'pink', 'red', 'red', 'white', 'orange',\n",
    "   'white', \"black\", 'pink', 'green', 'green', 'pink', 'green', 'pink',\n",
    "   'white', 'orange', \"orange\", 'red'\n",
    "]\n",
    "\n",
    "# Seu código"
   ]
  },
  {
   "cell_type": "code",
   "execution_count": 5,
   "metadata": {},
   "outputs": [
    {
     "name": "stdout",
     "output_type": "stream",
     "text": [
      "{'red': 4, 'green': 4, 'black': 5, 'pink': 6, 'white': 5, 'eyes': 1, 'orange': 4}\n"
     ]
    }
   ],
   "source": [
    "# count how many times each color appears:\n",
    "word_counts = {}\n",
    "for word in palavras:\n",
    "    if word in word_counts:\n",
    "        word_counts[word] += 1\n",
    "    else:\n",
    "        word_counts[word] = 1\n",
    "print(word_counts)"
   ]
  }
 ],
 "metadata": {
  "anaconda-cloud": {},
  "colab": {
   "include_colab_link": true,
   "name": "Desafio 1.ipynb",
   "provenance": []
  },
  "kernelspec": {
   "display_name": "Python 3",
   "language": "python",
   "name": "python3"
  },
  "language_info": {
   "codemirror_mode": {
    "name": "ipython",
    "version": 3
   },
   "file_extension": ".py",
   "mimetype": "text/x-python",
   "name": "python",
   "nbconvert_exporter": "python",
   "pygments_lexer": "ipython3",
   "version": "3.7.6"
  }
 },
 "nbformat": 4,
 "nbformat_minor": 1
}
