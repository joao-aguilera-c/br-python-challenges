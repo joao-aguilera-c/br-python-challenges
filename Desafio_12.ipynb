{
 "cells": [
  {
   "cell_type": "markdown",
   "metadata": {
    "colab_type": "text",
    "id": "view-in-github"
   },
   "source": [
    "![](https://i.imgur.com/YX6UATs.png)"
   ]
  },
  {
   "cell_type": "markdown",
   "metadata": {
    "colab_type": "text",
    "id": "AYHY2YXQf6J2"
   },
   "source": [
    "### Desafio 12\n",
    "\n",
    "Escreva uma função em Python para verificar a validade de uma senha.\n",
    "\n",
    "A senha deve ter:\n",
    "\n",
    "* Pelo menos 1 letra entre [a-z] e 1 letra entre [A-Z].\n",
    "* Pelo menos 1 número entre [0-9].\n",
    "* Pelo menos 1 caractere de [$ # @].\n",
    "* Comprimento mínimo de 6 caracteres.\n",
    "* Comprimento máximo de 16 caracteres.\n",
    "\n",
    "Entradas: \"12345678\", \"J3sus0\", \"#Te5t300\", \"J*90j12374\", \"Michheeul\", \"Monk3y6\"\n",
    "\n",
    "A saída deve ser a senha e um texto indicando se a senha é válida ou inválida:\n",
    "\n",
    "```\n",
    "\"1234\" - Senha inválida\n",
    "\"Qw#1234\" - Senha válida\n",
    "```"
   ]
  },
  {
   "cell_type": "code",
   "execution_count": 3,
   "metadata": {
    "colab": {},
    "colab_type": "code",
    "id": "UGgtGYGGf6J3"
   },
   "outputs": [],
   "source": [
    "def password_validator(password):\n",
    "    \"\"\"A senha deve ter:\n",
    "\n",
    "    * Pelo menos 1 letra entre [a-z] e 1 letra entre [A-Z].\n",
    "    * Pelo menos 1 número entre [0-9].\n",
    "    * Pelo menos 1 caractere de [$ # @].\n",
    "    * Comprimento mínimo de 6 caracteres.\n",
    "    * Comprimento máximo de 16 caracteres.\n",
    "    \"\"\"\n",
    "    if len(password) < 6 or len(password) > 16:\n",
    "        return f'{password} - Senha inválida'\n",
    "    if not any(char.isdigit() for char in password):\n",
    "        return f'{password} - Senha inválida'\n",
    "    if not any(char.isalpha() for char in password):\n",
    "        return f'{password} - Senha inválida'\n",
    "    if not any(char in '$ # @' for char in password):\n",
    "        return f'{password} - Senha inválida'\n",
    "    return f'{password} - Senha válida'\n"
   ]
  },
  {
   "cell_type": "code",
   "execution_count": 5,
   "metadata": {},
   "outputs": [
    {
     "data": {
      "text/plain": [
       "'1234 - Senha inválida'"
      ]
     },
     "execution_count": 5,
     "metadata": {},
     "output_type": "execute_result"
    }
   ],
   "source": [
    "password_validator('1234')"
   ]
  },
  {
   "cell_type": "code",
   "execution_count": 6,
   "metadata": {},
   "outputs": [
    {
     "data": {
      "text/plain": [
       "'Qw#1234 - Senha válida'"
      ]
     },
     "execution_count": 6,
     "metadata": {},
     "output_type": "execute_result"
    }
   ],
   "source": [
    "password_validator('Qw#1234')"
   ]
  }
 ],
 "metadata": {
  "anaconda-cloud": {},
  "colab": {
   "include_colab_link": true,
   "name": "Desafio 12.ipynb",
   "provenance": []
  },
  "kernelspec": {
   "display_name": "Python 3",
   "language": "python",
   "name": "python3"
  },
  "language_info": {
   "codemirror_mode": {
    "name": "ipython",
    "version": 3
   },
   "file_extension": ".py",
   "mimetype": "text/x-python",
   "name": "python",
   "nbconvert_exporter": "python",
   "pygments_lexer": "ipython3",
   "version": "3.7.6"
  }
 },
 "nbformat": 4,
 "nbformat_minor": 1
}
