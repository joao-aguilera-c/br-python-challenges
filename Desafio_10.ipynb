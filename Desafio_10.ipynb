{
 "cells": [
  {
   "cell_type": "markdown",
   "metadata": {
    "colab_type": "text",
    "id": "view-in-github"
   },
   "source": [
    "![](https://i.imgur.com/YX6UATs.png)"
   ]
  },
  {
   "cell_type": "markdown",
   "metadata": {
    "colab_type": "text",
    "id": "a4-FLDRof6Jv"
   },
   "source": [
    "### Desafio 10\n",
    "\n",
    "Dada uma lista, divida-a em 3 partes iguais e reverta a ordem de cada lista.\n",
    "\n",
    "**Exemplo:** \n",
    "\n",
    "Entrada: \\\n",
    "sampleList = [11, 45, 8, 23, 14, 12, 78, 45, 89]\n",
    "\n",
    "Saída: \\\n",
    "Parte 1 [8, 45, 11] \\\n",
    "Parte 2 [12, 14, 23] \\\n",
    "Parte 3 [89, 45, 78] "
   ]
  },
  {
   "cell_type": "code",
   "execution_count": 6,
   "metadata": {
    "colab": {},
    "colab_type": "code",
    "id": "IJ70pUjnf6Jw"
   },
   "outputs": [],
   "source": [
    "sampleList = [11, 45, 8, 23, 14, 12, 78, 45, 89]"
   ]
  },
  {
   "cell_type": "code",
   "execution_count": 11,
   "metadata": {
    "colab": {},
    "colab_type": "code",
    "id": "pNrXNVqf8Wc1"
   },
   "outputs": [
    {
     "name": "stdout",
     "output_type": "stream",
     "text": [
      "Parte 1 [8, 45, 11] \n",
      "Parte 2 [12, 14, 23] \n",
      "Parte 3 [89, 45, 78]\n"
     ]
    }
   ],
   "source": [
    "def divide_list_in_3_equal_lists(lst): \n",
    "    lst_1 = []\n",
    "    lst_2 = []   \n",
    "    lst_3 = []\n",
    "    elements_per_list = len(lst) // 3\n",
    "    for i in range(elements_per_list):\n",
    "        lst_1.append(lst[i])\n",
    "    for i in range(elements_per_list, elements_per_list * 2):\n",
    "        lst_2.append(lst[i])\n",
    "    for i in range(elements_per_list * 2, len(lst)):\n",
    "        lst_3.append(lst[i])\n",
    "    return lst_1[::-1], lst_2[::-1], lst_3[::-1]\n",
    "parte1, parte2, parte3 = divide_list_in_3_equal_lists(sampleList)\n",
    "\n",
    "print('Parte 1', parte1, '\\nParte 2', parte2, '\\nParte 3', parte3)"
   ]
  }
 ],
 "metadata": {
  "anaconda-cloud": {},
  "colab": {
   "include_colab_link": true,
   "name": "Desafio 10.ipynb",
   "provenance": []
  },
  "kernelspec": {
   "display_name": "Python 3",
   "language": "python",
   "name": "python3"
  },
  "language_info": {
   "codemirror_mode": {
    "name": "ipython",
    "version": 3
   },
   "file_extension": ".py",
   "mimetype": "text/x-python",
   "name": "python",
   "nbconvert_exporter": "python",
   "pygments_lexer": "ipython3",
   "version": "3.7.6"
  }
 },
 "nbformat": 4,
 "nbformat_minor": 1
}
